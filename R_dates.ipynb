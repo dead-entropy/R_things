{
 "cells": [
  {
   "cell_type": "code",
   "execution_count": 1,
   "metadata": {},
   "outputs": [],
   "source": [
    "########## DATES ##############"
   ]
  },
  {
   "cell_type": "code",
   "execution_count": 2,
   "metadata": {},
   "outputs": [
    {
     "ename": "ERROR",
     "evalue": "Error in thor - loki: non-numeric argument to binary operator\n",
     "output_type": "error",
     "traceback": [
      "Error in thor - loki: non-numeric argument to binary operator\nTraceback:\n"
     ]
    }
   ],
   "source": [
    "thor <- c('1978-06-09')\n",
    "loki <- c('1989-06-06')\n",
    "agegap <- thor - loki"
   ]
  },
  {
   "cell_type": "code",
   "execution_count": 3,
   "metadata": {},
   "outputs": [
    {
     "data": {
      "text/plain": [
       "Time difference of -4015 days"
      ]
     },
     "metadata": {},
     "output_type": "display_data"
    }
   ],
   "source": [
    "thor <- as.Date(c('1978-06-09'))\n",
    "loki <- as.Date(c('1989-06-06'))  \n",
    "  \n",
    "agegap <- thor - loki\n",
    "agegap"
   ]
  },
  {
   "cell_type": "code",
   "execution_count": null,
   "metadata": {},
   "outputs": [],
   "source": [
    "########### date operations #########"
   ]
  },
  {
   "cell_type": "code",
   "execution_count": 4,
   "metadata": {},
   "outputs": [
    {
     "data": {
      "text/html": [
       "<ol class=list-inline>\n",
       "\t<li><time datetime=\"2012-01-01\">2012-01-01</time></li>\n",
       "\t<li><time datetime=\"2012-01-02\">2012-01-02</time></li>\n",
       "\t<li><time datetime=\"2012-01-03\">2012-01-03</time></li>\n",
       "\t<li><time datetime=\"2012-01-04\">2012-01-04</time></li>\n",
       "\t<li><time datetime=\"2012-01-05\">2012-01-05</time></li>\n",
       "\t<li><time datetime=\"2012-01-06\">2012-01-06</time></li>\n",
       "\t<li><time datetime=\"2012-01-07\">2012-01-07</time></li>\n",
       "\t<li><time datetime=\"2012-01-08\">2012-01-08</time></li>\n",
       "\t<li><time datetime=\"2012-01-09\">2012-01-09</time></li>\n",
       "\t<li><time datetime=\"2012-01-10\">2012-01-10</time></li>\n",
       "\t<li><time datetime=\"2012-01-11\">2012-01-11</time></li>\n",
       "\t<li><time datetime=\"2012-01-12\">2012-01-12</time></li>\n",
       "\t<li><time datetime=\"2012-01-13\">2012-01-13</time></li>\n",
       "\t<li><time datetime=\"2012-01-14\">2012-01-14</time></li>\n",
       "\t<li><time datetime=\"2012-01-15\">2012-01-15</time></li>\n",
       "\t<li><time datetime=\"2012-01-16\">2012-01-16</time></li>\n",
       "\t<li><time datetime=\"2012-01-17\">2012-01-17</time></li>\n",
       "\t<li><time datetime=\"2012-01-18\">2012-01-18</time></li>\n",
       "\t<li><time datetime=\"2012-01-19\">2012-01-19</time></li>\n",
       "\t<li><time datetime=\"2012-01-20\">2012-01-20</time></li>\n",
       "\t<li><time datetime=\"2012-01-21\">2012-01-21</time></li>\n",
       "\t<li><time datetime=\"2012-01-22\">2012-01-22</time></li>\n",
       "\t<li><time datetime=\"2012-01-23\">2012-01-23</time></li>\n",
       "\t<li><time datetime=\"2012-01-24\">2012-01-24</time></li>\n",
       "\t<li><time datetime=\"2012-01-25\">2012-01-25</time></li>\n",
       "\t<li><time datetime=\"2012-01-26\">2012-01-26</time></li>\n",
       "\t<li><time datetime=\"2012-01-27\">2012-01-27</time></li>\n",
       "\t<li><time datetime=\"2012-01-28\">2012-01-28</time></li>\n",
       "\t<li><time datetime=\"2012-01-29\">2012-01-29</time></li>\n",
       "\t<li><time datetime=\"2012-01-30\">2012-01-30</time></li>\n",
       "\t<li><time datetime=\"2012-01-31\">2012-01-31</time></li>\n",
       "\t<li><time datetime=\"2012-02-01\">2012-02-01</time></li>\n",
       "</ol>\n"
      ],
      "text/latex": [
       "\\begin{enumerate*}\n",
       "\\item 2012-01-01\n",
       "\\item 2012-01-02\n",
       "\\item 2012-01-03\n",
       "\\item 2012-01-04\n",
       "\\item 2012-01-05\n",
       "\\item 2012-01-06\n",
       "\\item 2012-01-07\n",
       "\\item 2012-01-08\n",
       "\\item 2012-01-09\n",
       "\\item 2012-01-10\n",
       "\\item 2012-01-11\n",
       "\\item 2012-01-12\n",
       "\\item 2012-01-13\n",
       "\\item 2012-01-14\n",
       "\\item 2012-01-15\n",
       "\\item 2012-01-16\n",
       "\\item 2012-01-17\n",
       "\\item 2012-01-18\n",
       "\\item 2012-01-19\n",
       "\\item 2012-01-20\n",
       "\\item 2012-01-21\n",
       "\\item 2012-01-22\n",
       "\\item 2012-01-23\n",
       "\\item 2012-01-24\n",
       "\\item 2012-01-25\n",
       "\\item 2012-01-26\n",
       "\\item 2012-01-27\n",
       "\\item 2012-01-28\n",
       "\\item 2012-01-29\n",
       "\\item 2012-01-30\n",
       "\\item 2012-01-31\n",
       "\\item 2012-02-01\n",
       "\\end{enumerate*}\n"
      ],
      "text/markdown": [
       "1. 2012-01-01\n",
       "2. 2012-01-02\n",
       "3. 2012-01-03\n",
       "4. 2012-01-04\n",
       "5. 2012-01-05\n",
       "6. 2012-01-06\n",
       "7. 2012-01-07\n",
       "8. 2012-01-08\n",
       "9. 2012-01-09\n",
       "10. 2012-01-10\n",
       "11. 2012-01-11\n",
       "12. 2012-01-12\n",
       "13. 2012-01-13\n",
       "14. 2012-01-14\n",
       "15. 2012-01-15\n",
       "16. 2012-01-16\n",
       "17. 2012-01-17\n",
       "18. 2012-01-18\n",
       "19. 2012-01-19\n",
       "20. 2012-01-20\n",
       "21. 2012-01-21\n",
       "22. 2012-01-22\n",
       "23. 2012-01-23\n",
       "24. 2012-01-24\n",
       "25. 2012-01-25\n",
       "26. 2012-01-26\n",
       "27. 2012-01-27\n",
       "28. 2012-01-28\n",
       "29. 2012-01-29\n",
       "30. 2012-01-30\n",
       "31. 2012-01-31\n",
       "32. 2012-02-01\n",
       "\n",
       "\n"
      ],
      "text/plain": [
       " [1] \"2012-01-01\" \"2012-01-02\" \"2012-01-03\" \"2012-01-04\" \"2012-01-05\"\n",
       " [6] \"2012-01-06\" \"2012-01-07\" \"2012-01-08\" \"2012-01-09\" \"2012-01-10\"\n",
       "[11] \"2012-01-11\" \"2012-01-12\" \"2012-01-13\" \"2012-01-14\" \"2012-01-15\"\n",
       "[16] \"2012-01-16\" \"2012-01-17\" \"2012-01-18\" \"2012-01-19\" \"2012-01-20\"\n",
       "[21] \"2012-01-21\" \"2012-01-22\" \"2012-01-23\" \"2012-01-24\" \"2012-01-25\"\n",
       "[26] \"2012-01-26\" \"2012-01-27\" \"2012-01-28\" \"2012-01-29\" \"2012-01-30\"\n",
       "[31] \"2012-01-31\" \"2012-02-01\""
      ]
     },
     "metadata": {},
     "output_type": "display_data"
    },
    {
     "data": {
      "text/html": [
       "<ol class=list-inline>\n",
       "\t<li><time datetime=\"2012-01-01\">2012-01-01</time></li>\n",
       "\t<li><time datetime=\"2012-01-02\">2012-01-02</time></li>\n",
       "\t<li><time datetime=\"2012-01-03\">2012-01-03</time></li>\n",
       "\t<li><time datetime=\"2012-01-04\">2012-01-04</time></li>\n",
       "\t<li><time datetime=\"2012-01-05\">2012-01-05</time></li>\n",
       "\t<li><time datetime=\"2012-01-06\">2012-01-06</time></li>\n",
       "\t<li><time datetime=\"2012-01-07\">2012-01-07</time></li>\n",
       "</ol>\n"
      ],
      "text/latex": [
       "\\begin{enumerate*}\n",
       "\\item 2012-01-01\n",
       "\\item 2012-01-02\n",
       "\\item 2012-01-03\n",
       "\\item 2012-01-04\n",
       "\\item 2012-01-05\n",
       "\\item 2012-01-06\n",
       "\\item 2012-01-07\n",
       "\\end{enumerate*}\n"
      ],
      "text/markdown": [
       "1. 2012-01-01\n",
       "2. 2012-01-02\n",
       "3. 2012-01-03\n",
       "4. 2012-01-04\n",
       "5. 2012-01-05\n",
       "6. 2012-01-06\n",
       "7. 2012-01-07\n",
       "\n",
       "\n"
      ],
      "text/plain": [
       "[1] \"2012-01-01\" \"2012-01-02\" \"2012-01-03\" \"2012-01-04\" \"2012-01-05\"\n",
       "[6] \"2012-01-06\" \"2012-01-07\""
      ]
     },
     "metadata": {},
     "output_type": "display_data"
    },
    {
     "data": {
      "text/html": [
       "<ol class=list-inline>\n",
       "\t<li><time datetime=\"2012-01-01\">2012-01-01</time></li>\n",
       "\t<li><time datetime=\"2012-02-01\">2012-02-01</time></li>\n",
       "\t<li><time datetime=\"2012-03-01\">2012-03-01</time></li>\n",
       "\t<li><time datetime=\"2012-04-01\">2012-04-01</time></li>\n",
       "\t<li><time datetime=\"2012-05-01\">2012-05-01</time></li>\n",
       "\t<li><time datetime=\"2012-06-01\">2012-06-01</time></li>\n",
       "\t<li><time datetime=\"2012-07-01\">2012-07-01</time></li>\n",
       "\t<li><time datetime=\"2012-08-01\">2012-08-01</time></li>\n",
       "\t<li><time datetime=\"2012-09-01\">2012-09-01</time></li>\n",
       "\t<li><time datetime=\"2012-10-01\">2012-10-01</time></li>\n",
       "\t<li><time datetime=\"2012-11-01\">2012-11-01</time></li>\n",
       "\t<li><time datetime=\"2012-12-01\">2012-12-01</time></li>\n",
       "</ol>\n"
      ],
      "text/latex": [
       "\\begin{enumerate*}\n",
       "\\item 2012-01-01\n",
       "\\item 2012-02-01\n",
       "\\item 2012-03-01\n",
       "\\item 2012-04-01\n",
       "\\item 2012-05-01\n",
       "\\item 2012-06-01\n",
       "\\item 2012-07-01\n",
       "\\item 2012-08-01\n",
       "\\item 2012-09-01\n",
       "\\item 2012-10-01\n",
       "\\item 2012-11-01\n",
       "\\item 2012-12-01\n",
       "\\end{enumerate*}\n"
      ],
      "text/markdown": [
       "1. 2012-01-01\n",
       "2. 2012-02-01\n",
       "3. 2012-03-01\n",
       "4. 2012-04-01\n",
       "5. 2012-05-01\n",
       "6. 2012-06-01\n",
       "7. 2012-07-01\n",
       "8. 2012-08-01\n",
       "9. 2012-09-01\n",
       "10. 2012-10-01\n",
       "11. 2012-11-01\n",
       "12. 2012-12-01\n",
       "\n",
       "\n"
      ],
      "text/plain": [
       " [1] \"2012-01-01\" \"2012-02-01\" \"2012-03-01\" \"2012-04-01\" \"2012-05-01\"\n",
       " [6] \"2012-06-01\" \"2012-07-01\" \"2012-08-01\" \"2012-09-01\" \"2012-10-01\"\n",
       "[11] \"2012-11-01\" \"2012-12-01\""
      ]
     },
     "metadata": {},
     "output_type": "display_data"
    },
    {
     "data": {
      "text/html": [
       "<ol class=list-inline>\n",
       "\t<li><time datetime=\"2012-01-01\">2012-01-01</time></li>\n",
       "\t<li><time datetime=\"2012-04-01\">2012-04-01</time></li>\n",
       "\t<li><time datetime=\"2012-07-01\">2012-07-01</time></li>\n",
       "\t<li><time datetime=\"2012-10-01\">2012-10-01</time></li>\n",
       "</ol>\n"
      ],
      "text/latex": [
       "\\begin{enumerate*}\n",
       "\\item 2012-01-01\n",
       "\\item 2012-04-01\n",
       "\\item 2012-07-01\n",
       "\\item 2012-10-01\n",
       "\\end{enumerate*}\n"
      ],
      "text/markdown": [
       "1. 2012-01-01\n",
       "2. 2012-04-01\n",
       "3. 2012-07-01\n",
       "4. 2012-10-01\n",
       "\n",
       "\n"
      ],
      "text/plain": [
       "[1] \"2012-01-01\" \"2012-04-01\" \"2012-07-01\" \"2012-10-01\""
      ]
     },
     "metadata": {},
     "output_type": "display_data"
    }
   ],
   "source": [
    "s <- as.Date(\"2012-01-01\")\n",
    "e <- as.Date(\"2012-02-01\") \n",
    "seq <- seq(from=s, to=e, by=1)\n",
    "week <- seq(from=s, by=1, length.out=7) # dates one week apart\n",
    "first <- seq(from=s, by=\"month\", length.out=12) # first of month for one year\n",
    "qrt <- seq(from=s, by=\"3 months\", length.out=4) # Quarterly dates for one year\n",
    "seq\n",
    "week\n",
    "first\n",
    "qrt"
   ]
  },
  {
   "cell_type": "code",
   "execution_count": null,
   "metadata": {},
   "outputs": [],
   "source": [
    "############# POSIXct ###########"
   ]
  },
  {
   "cell_type": "code",
   "execution_count": 2,
   "metadata": {},
   "outputs": [
    {
     "data": {
      "text/html": [
       "<table>\n",
       "<thead><tr><th scope=col>Timestamp</th><th scope=col>Machine</th><th scope=col>Percent.Idle</th></tr></thead>\n",
       "<tbody>\n",
       "\t<tr><td>01/09/2016 00:00</td><td>RL1             </td><td>NA              </td></tr>\n",
       "\t<tr><td>01/09/2016 01:00</td><td>RL1             </td><td>NA              </td></tr>\n",
       "\t<tr><td>01/09/2016 02:00</td><td>RL1             </td><td>NA              </td></tr>\n",
       "\t<tr><td>01/09/2016 03:00</td><td>RL1             </td><td>NA              </td></tr>\n",
       "\t<tr><td>01/09/2016 04:00</td><td>RL1             </td><td>NA              </td></tr>\n",
       "\t<tr><td>01/09/2016 05:00</td><td>RL1             </td><td>NA              </td></tr>\n",
       "</tbody>\n",
       "</table>\n"
      ],
      "text/latex": [
       "\\begin{tabular}{r|lll}\n",
       " Timestamp & Machine & Percent.Idle\\\\\n",
       "\\hline\n",
       "\t 01/09/2016 00:00 & RL1              & NA              \\\\\n",
       "\t 01/09/2016 01:00 & RL1              & NA              \\\\\n",
       "\t 01/09/2016 02:00 & RL1              & NA              \\\\\n",
       "\t 01/09/2016 03:00 & RL1              & NA              \\\\\n",
       "\t 01/09/2016 04:00 & RL1              & NA              \\\\\n",
       "\t 01/09/2016 05:00 & RL1              & NA              \\\\\n",
       "\\end{tabular}\n"
      ],
      "text/markdown": [
       "\n",
       "| Timestamp | Machine | Percent.Idle |\n",
       "|---|---|---|\n",
       "| 01/09/2016 00:00 | RL1              | NA               |\n",
       "| 01/09/2016 01:00 | RL1              | NA               |\n",
       "| 01/09/2016 02:00 | RL1              | NA               |\n",
       "| 01/09/2016 03:00 | RL1              | NA               |\n",
       "| 01/09/2016 04:00 | RL1              | NA               |\n",
       "| 01/09/2016 05:00 | RL1              | NA               |\n",
       "\n"
      ],
      "text/plain": [
       "  Timestamp        Machine Percent.Idle\n",
       "1 01/09/2016 00:00 RL1     NA          \n",
       "2 01/09/2016 01:00 RL1     NA          \n",
       "3 01/09/2016 02:00 RL1     NA          \n",
       "4 01/09/2016 03:00 RL1     NA          \n",
       "5 01/09/2016 04:00 RL1     NA          \n",
       "6 01/09/2016 05:00 RL1     NA          "
      ]
     },
     "metadata": {},
     "output_type": "display_data"
    }
   ],
   "source": [
    "# util <- read.csv('P3-Machine-Utilization.csv')\n",
    "\n",
    "util <- read.csv('P3-Machine-Utilization.csv', header=T)\n",
    "head(util)"
   ]
  },
  {
   "cell_type": "code",
   "execution_count": 3,
   "metadata": {},
   "outputs": [
    {
     "data": {
      "text/html": [
       "<table>\n",
       "<thead><tr><th scope=col>Timestamp</th><th scope=col>Machine</th><th scope=col>Percent.Idle</th><th scope=col>PosixTime</th></tr></thead>\n",
       "<tbody>\n",
       "\t<tr><td>01/09/2016 00:00   </td><td>RL1                </td><td>NA                 </td><td>2016-09-01 00:00:00</td></tr>\n",
       "\t<tr><td>01/09/2016 01:00   </td><td>RL1                </td><td>NA                 </td><td>2016-09-01 01:00:00</td></tr>\n",
       "\t<tr><td>01/09/2016 02:00   </td><td>RL1                </td><td>NA                 </td><td>2016-09-01 02:00:00</td></tr>\n",
       "\t<tr><td>01/09/2016 03:00   </td><td>RL1                </td><td>NA                 </td><td>2016-09-01 03:00:00</td></tr>\n",
       "\t<tr><td>01/09/2016 04:00   </td><td>RL1                </td><td>NA                 </td><td>2016-09-01 04:00:00</td></tr>\n",
       "\t<tr><td>01/09/2016 05:00   </td><td>RL1                </td><td>NA                 </td><td>2016-09-01 05:00:00</td></tr>\n",
       "</tbody>\n",
       "</table>\n"
      ],
      "text/latex": [
       "\\begin{tabular}{r|llll}\n",
       " Timestamp & Machine & Percent.Idle & PosixTime\\\\\n",
       "\\hline\n",
       "\t 01/09/2016 00:00    & RL1                 & NA                  & 2016-09-01 00:00:00\\\\\n",
       "\t 01/09/2016 01:00    & RL1                 & NA                  & 2016-09-01 01:00:00\\\\\n",
       "\t 01/09/2016 02:00    & RL1                 & NA                  & 2016-09-01 02:00:00\\\\\n",
       "\t 01/09/2016 03:00    & RL1                 & NA                  & 2016-09-01 03:00:00\\\\\n",
       "\t 01/09/2016 04:00    & RL1                 & NA                  & 2016-09-01 04:00:00\\\\\n",
       "\t 01/09/2016 05:00    & RL1                 & NA                  & 2016-09-01 05:00:00\\\\\n",
       "\\end{tabular}\n"
      ],
      "text/markdown": [
       "\n",
       "| Timestamp | Machine | Percent.Idle | PosixTime |\n",
       "|---|---|---|---|\n",
       "| 01/09/2016 00:00    | RL1                 | NA                  | 2016-09-01 00:00:00 |\n",
       "| 01/09/2016 01:00    | RL1                 | NA                  | 2016-09-01 01:00:00 |\n",
       "| 01/09/2016 02:00    | RL1                 | NA                  | 2016-09-01 02:00:00 |\n",
       "| 01/09/2016 03:00    | RL1                 | NA                  | 2016-09-01 03:00:00 |\n",
       "| 01/09/2016 04:00    | RL1                 | NA                  | 2016-09-01 04:00:00 |\n",
       "| 01/09/2016 05:00    | RL1                 | NA                  | 2016-09-01 05:00:00 |\n",
       "\n"
      ],
      "text/plain": [
       "  Timestamp        Machine Percent.Idle PosixTime          \n",
       "1 01/09/2016 00:00 RL1     NA           2016-09-01 00:00:00\n",
       "2 01/09/2016 01:00 RL1     NA           2016-09-01 01:00:00\n",
       "3 01/09/2016 02:00 RL1     NA           2016-09-01 02:00:00\n",
       "4 01/09/2016 03:00 RL1     NA           2016-09-01 03:00:00\n",
       "5 01/09/2016 04:00 RL1     NA           2016-09-01 04:00:00\n",
       "6 01/09/2016 05:00 RL1     NA           2016-09-01 05:00:00"
      ]
     },
     "metadata": {},
     "output_type": "display_data"
    },
    {
     "data": {
      "text/plain": [
       "            Timestamp    Machine     Percent.Idle   \n",
       " 01/09/2016 00:00:   5   RL1 :720   Min.   :0.0000  \n",
       " 01/09/2016 01:00:   5   RL2 :720   1st Qu.:0.0262  \n",
       " 01/09/2016 02:00:   5   SR1 :720   Median :0.0410  \n",
       " 01/09/2016 03:00:   5   SR4A:720   Mean   :0.0431  \n",
       " 01/09/2016 04:00:   5   SR6 :720   3rd Qu.:0.0576  \n",
       " 01/09/2016 05:00:   5              Max.   :0.1508  \n",
       " (Other)         :3570              NA's   :361     \n",
       "   PosixTime                  \n",
       " Min.   :2016-09-01 00:00:00  \n",
       " 1st Qu.:2016-09-08 11:45:00  \n",
       " Median :2016-09-15 23:30:00  \n",
       " Mean   :2016-09-15 23:30:00  \n",
       " 3rd Qu.:2016-09-23 11:15:00  \n",
       " Max.   :2016-09-30 23:00:00  \n",
       "                              "
      ]
     },
     "metadata": {},
     "output_type": "display_data"
    }
   ],
   "source": [
    "# convert time data to POSIXct\n",
    "util$PosixTime <- as.POSIXct(util$Timestamp, format = '%d/%m/%Y %H:%M')\n",
    "head(util)\n",
    "summary(util)"
   ]
  },
  {
   "cell_type": "code",
   "execution_count": null,
   "metadata": {},
   "outputs": [],
   "source": []
  }
 ],
 "metadata": {
  "kernelspec": {
   "display_name": "R",
   "language": "R",
   "name": "ir"
  },
  "language_info": {
   "codemirror_mode": "r",
   "file_extension": ".r",
   "mimetype": "text/x-r-source",
   "name": "R",
   "pygments_lexer": "r",
   "version": "3.5.1"
  }
 },
 "nbformat": 4,
 "nbformat_minor": 2
}
